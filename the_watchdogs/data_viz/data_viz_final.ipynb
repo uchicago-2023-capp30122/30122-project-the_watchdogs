{
 "cells": [
  {
   "cell_type": "code",
   "execution_count": null,
   "metadata": {},
   "outputs": [
    {
     "ename": "ImportError",
     "evalue": "attempted relative import with no known parent package",
     "output_type": "error",
     "traceback": [
      "\u001b[0;31m---------------------------------------------------------------------------\u001b[0m",
      "\u001b[0;31mImportError\u001b[0m                               Traceback (most recent call last)",
      "Cell \u001b[0;32mIn[3], line 4\u001b[0m\n\u001b[1;32m      1\u001b[0m \u001b[38;5;66;03m# Import statements here:\u001b[39;00m\n\u001b[1;32m      3\u001b[0m \u001b[38;5;28;01mimport\u001b[39;00m \u001b[38;5;21;01msys\u001b[39;00m\n\u001b[0;32m----> 4\u001b[0m \u001b[38;5;28;01mfrom\u001b[39;00m \u001b[38;5;21;01m.\u001b[39;00m\u001b[38;5;21;01mclean\u001b[39;00m \u001b[38;5;28;01mimport\u001b[39;00m clean\n\u001b[1;32m      5\u001b[0m \u001b[38;5;28;01mimport\u001b[39;00m \u001b[38;5;21;01mpathlib\u001b[39;00m\n\u001b[1;32m      6\u001b[0m \u001b[38;5;28;01mimport\u001b[39;00m \u001b[38;5;21;01mpandas\u001b[39;00m \u001b[38;5;28;01mas\u001b[39;00m \u001b[38;5;21;01mpd\u001b[39;00m\n",
      "\u001b[0;31mImportError\u001b[0m: attempted relative import with no known parent package"
     ]
    }
   ],
   "source": [
    "# Import statements here:\n",
    "\n",
    "import sys\n",
    "from /home/rohitk/capp30122/team_project/30122-project-the_watchdogs/the_watchdogs/clean import clean\n",
    "import pathlib\n",
    "import pandas as pd\n",
    "from dash import Dash, html, dcc\n",
    "import plotly.express as px\n"
   ]
  },
  {
   "cell_type": "code",
   "execution_count": 5,
   "metadata": {},
   "outputs": [
    {
     "name": "stdout",
     "output_type": "stream",
     "text": [
      "                                                   url source  \\\n",
      "0    https://www.foxnews.com/politics/jan-6-committ...    FOX   \n",
      "1    https://www.foxnews.com/politics/trump-acknowl...    FOX   \n",
      "2    https://www.foxnews.com/politics/trump-speech-...    FOX   \n",
      "3    https://www.foxnews.com/politics/how-wednesday...    FOX   \n",
      "4    https://www.foxnews.com/politics/secret-servic...    FOX   \n",
      "..                                                 ...    ...   \n",
      "323  https://www.foxnews.com/media/biden-trump-rhet...    FOX   \n",
      "324  https://www.foxnews.com/us/virginia-man-pleads...    FOX   \n",
      "325  https://www.foxnews.com/politics/reporters-not...    FOX   \n",
      "326  https://www.foxnews.com/politics/doug-mastrian...    FOX   \n",
      "327  https://www.foxnews.com/us/capitol-riot-qanon-...    FOX   \n",
      "\n",
      "                                                 title  \\\n",
      "0    Jan. 6 committee issues Trump subpoena seeking...   \n",
      "1    Trump acknowledged he bears some blame for Cap...   \n",
      "2    Trump speech before Capitol riot not enough fo...   \n",
      "3    How Wednesday's Capitol riot came to fruition ...   \n",
      "4    Secret Service agents willing to testify Trump...   \n",
      "..                                                 ...   \n",
      "323  Biden, Trump exchange harsh rhetorical blows a...   \n",
      "324  Virginia man pleads guilty to charges from Jan...   \n",
      "325  Reporter's Notebook: Inside the US Capitol dur...   \n",
      "326  PA gubernatorial candidate Doug Mastriano suin...   \n",
      "327  Capitol rioter 'QAnon Shaman' claims in new in...   \n",
      "\n",
      "                                           description                date  \\\n",
      "0    Former President Donald Trump has been subpoen... 2022-10-21 13:56:00   \n",
      "1    President Trump acknowledged that he bears som... 2021-01-11 20:00:00   \n",
      "2    Democrats are moving to remove President Trump... 2021-01-10 11:35:00   \n",
      "3    The congressional endeavor of certifying the P... 2021-01-08 18:59:00   \n",
      "4    Secret Service agents are prepared to refute t... 2022-06-28 20:47:00   \n",
      "..                                                 ...                 ...   \n",
      "323  President Biden pounded former president Trump... 2022-01-07 03:01:00   \n",
      "324  During the Jan. 6 riot, a Virginia man wore a ... 2022-01-26 14:30:00   \n",
      "325  Seeing images of smoke bombs going off in the ... 2021-02-10 10:32:00   \n",
      "326  Pennsylvania gubernatorial candidate Doug Mast... 2022-09-01 18:23:00   \n",
      "327  The self-described \"QAnon Shaman\" claimed in a... 2021-03-04 10:03:00   \n",
      "\n",
      "                                                  text  \n",
      "0    Fox News' senior congressional correspondent C...  \n",
      "1    Former Justice Department official John Yoo di...  \n",
      "2    George Washington University law professor Jon...  \n",
      "3    <br> So what happened? According to one U.S. m...  \n",
      "4    Fox News anchor Bret Baier peels back the many...  \n",
      "..                                                 ...  \n",
      "323  Howard Kurtz remembers the life of 'Golden Gir...  \n",
      "324  Fox News Flash top headlines are here. Check o...  \n",
      "325  Fox News Flash top headlines are here. Check o...  \n",
      "326  Former Secretary of State Mike Pompeo weighs i...  \n",
      "327  Independent journalist Glenn Greenwald joins L...  \n",
      "\n",
      "[328 rows x 6 columns]\n"
     ]
    },
    {
     "name": "stderr",
     "output_type": "stream",
     "text": [
      "/home/rohitk/.conda/envs/new/lib/python3.8/site-packages/dateutil/parser/_parser.py:1207: UnknownTimezoneWarning: tzname EDT identified but not understood.  Pass `tzinfos` argument in order to correctly return a timezone-aware datetime.  In a future version, this will raise an exception.\n",
      "  warnings.warn(\"tzname {tzname} identified but not understood.  \"\n",
      "/home/rohitk/.conda/envs/new/lib/python3.8/site-packages/dateutil/parser/_parser.py:1207: UnknownTimezoneWarning: tzname EST identified but not understood.  Pass `tzinfos` argument in order to correctly return a timezone-aware datetime.  In a future version, this will raise an exception.\n",
      "  warnings.warn(\"tzname {tzname} identified but not understood.  \"\n"
     ]
    }
   ],
   "source": [
    "fox_json = \"data/fox_articles.json\"\n",
    "df_fox = pd.read_json(fox_json)\n",
    "print(df_fox)"
   ]
  }
 ],
 "metadata": {
  "kernelspec": {
   "display_name": "Python 3",
   "language": "python",
   "name": "python3"
  },
  "language_info": {
   "codemirror_mode": {
    "name": "ipython",
    "version": 3
   },
   "file_extension": ".py",
   "mimetype": "text/x-python",
   "name": "python",
   "nbconvert_exporter": "python",
   "pygments_lexer": "ipython3",
   "version": "3.8.10"
  },
  "vscode": {
   "interpreter": {
    "hash": "4f4e42c4b52f8deeeec9fa7a420079e263e414c3dcea521839909175eb76f39f"
   }
  }
 },
 "nbformat": 4,
 "nbformat_minor": 2
}
