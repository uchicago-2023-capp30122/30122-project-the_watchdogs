{
 "cells": [
  {
   "cell_type": "code",
   "execution_count": 4,
   "metadata": {},
   "outputs": [],
   "source": [
    "# Import statements here:\n",
    "\n",
    "import sys\n",
    "if sys.path[-1] != '../':\n",
    "    sys.path.append('../')\n",
    "from clean import clean\n",
    "import pathlib\n",
    "import pandas as pd\n",
    "from dash import Dash, html, dcc\n",
    "# import plotly.express as px"
   ]
  },
  {
   "cell_type": "code",
   "execution_count": 5,
   "metadata": {},
   "outputs": [
    {
     "ename": "SyntaxError",
     "evalue": "invalid syntax (3728487174.py, line 6)",
     "output_type": "error",
     "traceback": [
      "\u001b[0;36m  Cell \u001b[0;32mIn[5], line 6\u001b[0;36m\u001b[0m\n\u001b[0;31m    fox_json =\u001b[0m\n\u001b[0m              ^\u001b[0m\n\u001b[0;31mSyntaxError\u001b[0m\u001b[0;31m:\u001b[0m invalid syntax\n"
     ]
    }
   ],
   "source": [
    "path = '/data/cnn_articles.json'\n",
    "\n",
    "\n",
    "# dataframe stuff here\n",
    "\n",
    "fox_json =\n",
    "df_fox =\n",
    "\n",
    "cnn_json =\n",
    "df_cnn = "
   ]
  },
  {
   "cell_type": "code",
   "execution_count": null,
   "metadata": {},
   "outputs": [],
   "source": [
    "# text analysis stuff here"
   ]
  }
 ],
 "metadata": {
  "kernelspec": {
   "display_name": "new",
   "language": "python",
   "name": "python3"
  },
  "language_info": {
   "codemirror_mode": {
    "name": "ipython",
    "version": 3
   },
   "file_extension": ".py",
   "mimetype": "text/x-python",
   "name": "python",
   "nbconvert_exporter": "python",
   "pygments_lexer": "ipython3",
   "version": "3.8.16"
  },
  "orig_nbformat": 4,
  "vscode": {
   "interpreter": {
    "hash": "4f4e42c4b52f8deeeec9fa7a420079e263e414c3dcea521839909175eb76f39f"
   }
  }
 },
 "nbformat": 4,
 "nbformat_minor": 2
}
