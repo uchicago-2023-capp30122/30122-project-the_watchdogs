{
 "cells": [
  {
   "cell_type": "code",
   "execution_count": 47,
   "metadata": {},
   "outputs": [],
   "source": [
    "import json\n",
    "import pandas as pd\n",
    "import nltk\n",
    "from nltk.corpus import stopwords\n",
    "#Download stopwords and punkt if you haven't already\n",
    "# nltk.download('stopwords')\n",
    "# nltk.download('punkt')\n",
    "from nltk.tokenize import word_tokenize"
   ]
  },
  {
   "cell_type": "code",
   "execution_count": 18,
   "metadata": {},
   "outputs": [],
   "source": [
    "# Load scraped articles from publication\n",
    "with open('cnn_articles.json', 'r') as f:\n",
    "  data = json.load(f)"
   ]
  },
  {
   "cell_type": "code",
   "execution_count": 19,
   "metadata": {},
   "outputs": [
    {
     "data": {
      "text/html": [
       "<div>\n",
       "<style scoped>\n",
       "    .dataframe tbody tr th:only-of-type {\n",
       "        vertical-align: middle;\n",
       "    }\n",
       "\n",
       "    .dataframe tbody tr th {\n",
       "        vertical-align: top;\n",
       "    }\n",
       "\n",
       "    .dataframe thead th {\n",
       "        text-align: right;\n",
       "    }\n",
       "</style>\n",
       "<table border=\"1\" class=\"dataframe\">\n",
       "  <thead>\n",
       "    <tr style=\"text-align: right;\">\n",
       "      <th></th>\n",
       "      <th>url</th>\n",
       "      <th>title</th>\n",
       "      <th>source</th>\n",
       "      <th>description</th>\n",
       "      <th>keywords</th>\n",
       "      <th>date</th>\n",
       "      <th>text</th>\n",
       "    </tr>\n",
       "  </thead>\n",
       "  <tbody>\n",
       "    <tr>\n",
       "      <th>0</th>\n",
       "      <td>https://www.cnn.com/2022/02/09/politics/mitch-...</td>\n",
       "      <td>McConnell squares off with conservatives for d...</td>\n",
       "      <td>CNN</td>\n",
       "      <td>Senate GOP Leader Mitch McConnell made clear t...</td>\n",
       "      <td>[civil disobedience, conservatism, continents ...</td>\n",
       "      <td>5:52 PM EST, Wed February 9, 2022</td>\n",
       "      <td>GOP Leader Mitch McConnell made clear this wee...</td>\n",
       "    </tr>\n",
       "    <tr>\n",
       "      <th>1</th>\n",
       "      <td>https://www.cnn.com/2021/07/28/politics/republ...</td>\n",
       "      <td>Republicans’ Jan. 6 counterprogramming filled ...</td>\n",
       "      <td>CNN</td>\n",
       "      <td>On the day a House select committee held its f...</td>\n",
       "      <td>[government and public administration, politic...</td>\n",
       "      <td>Published8:19 AM EDT, Wed July 28, 2021</td>\n",
       "      <td>— On the day a House select committee held it...</td>\n",
       "    </tr>\n",
       "    <tr>\n",
       "      <th>2</th>\n",
       "      <td>https://www.cnn.com/2022/12/21/politics/house-...</td>\n",
       "      <td>First transcripts from Jan. 6 committee reveal...</td>\n",
       "      <td>CNN</td>\n",
       "      <td>The House select committee investigating the J...</td>\n",
       "      <td>[2020 presidential election, ali alexander, br...</td>\n",
       "      <td>7:30 AM EST, Thu December 22, 2022</td>\n",
       "      <td>se select committee investigating the January ...</td>\n",
       "    </tr>\n",
       "  </tbody>\n",
       "</table>\n",
       "</div>"
      ],
      "text/plain": [
       "                                                 url  \\\n",
       "0  https://www.cnn.com/2022/02/09/politics/mitch-...   \n",
       "1  https://www.cnn.com/2021/07/28/politics/republ...   \n",
       "2  https://www.cnn.com/2022/12/21/politics/house-...   \n",
       "\n",
       "                                               title source  \\\n",
       "0  McConnell squares off with conservatives for d...    CNN   \n",
       "1  Republicans’ Jan. 6 counterprogramming filled ...    CNN   \n",
       "2  First transcripts from Jan. 6 committee reveal...    CNN   \n",
       "\n",
       "                                         description  \\\n",
       "0  Senate GOP Leader Mitch McConnell made clear t...   \n",
       "1  On the day a House select committee held its f...   \n",
       "2  The House select committee investigating the J...   \n",
       "\n",
       "                                            keywords  \\\n",
       "0  [civil disobedience, conservatism, continents ...   \n",
       "1  [government and public administration, politic...   \n",
       "2  [2020 presidential election, ali alexander, br...   \n",
       "\n",
       "                                      date  \\\n",
       "0        5:52 PM EST, Wed February 9, 2022   \n",
       "1  Published8:19 AM EDT, Wed July 28, 2021   \n",
       "2       7:30 AM EST, Thu December 22, 2022   \n",
       "\n",
       "                                                text  \n",
       "0  GOP Leader Mitch McConnell made clear this wee...  \n",
       "1   — On the day a House select committee held it...  \n",
       "2  se select committee investigating the January ...  "
      ]
     },
     "execution_count": 19,
     "metadata": {},
     "output_type": "execute_result"
    }
   ],
   "source": [
    "# Load data into dataframe\n",
    "df = pd.DataFrame(data)\n",
    "df.head()\n"
   ]
  },
  {
   "cell_type": "code",
   "execution_count": 49,
   "metadata": {},
   "outputs": [],
   "source": [
    "# Strip spaces in text and make lowercase\n",
    "df.text = df.text.str.strip()\n",
    "df.text = df.text.str.lower()"
   ]
  },
  {
   "cell_type": "code",
   "execution_count": 31,
   "metadata": {},
   "outputs": [],
   "source": [
    "# Set language for stop words\n",
    "stop_words = set(stopwords.words('english'))"
   ]
  },
  {
   "cell_type": "code",
   "execution_count": 36,
   "metadata": {},
   "outputs": [
    {
     "data": {
      "text/html": [
       "<div>\n",
       "<style scoped>\n",
       "    .dataframe tbody tr th:only-of-type {\n",
       "        vertical-align: middle;\n",
       "    }\n",
       "\n",
       "    .dataframe tbody tr th {\n",
       "        vertical-align: top;\n",
       "    }\n",
       "\n",
       "    .dataframe thead th {\n",
       "        text-align: right;\n",
       "    }\n",
       "</style>\n",
       "<table border=\"1\" class=\"dataframe\">\n",
       "  <thead>\n",
       "    <tr style=\"text-align: right;\">\n",
       "      <th></th>\n",
       "      <th>url</th>\n",
       "      <th>title</th>\n",
       "      <th>source</th>\n",
       "      <th>description</th>\n",
       "      <th>keywords</th>\n",
       "      <th>date</th>\n",
       "      <th>text</th>\n",
       "      <th>clean_text</th>\n",
       "    </tr>\n",
       "  </thead>\n",
       "  <tbody>\n",
       "    <tr>\n",
       "      <th>0</th>\n",
       "      <td>https://www.cnn.com/2022/02/09/politics/mitch-...</td>\n",
       "      <td>McConnell squares off with conservatives for d...</td>\n",
       "      <td>CNN</td>\n",
       "      <td>Senate GOP Leader Mitch McConnell made clear t...</td>\n",
       "      <td>[civil disobedience, conservatism, continents ...</td>\n",
       "      <td>5:52 PM EST, Wed February 9, 2022</td>\n",
       "      <td>gop leader mitch mcconnell made clear this wee...</td>\n",
       "      <td>[gop, leader, mitch, mcconnell, made, clear, w...</td>\n",
       "    </tr>\n",
       "    <tr>\n",
       "      <th>1</th>\n",
       "      <td>https://www.cnn.com/2021/07/28/politics/republ...</td>\n",
       "      <td>Republicans’ Jan. 6 counterprogramming filled ...</td>\n",
       "      <td>CNN</td>\n",
       "      <td>On the day a House select committee held its f...</td>\n",
       "      <td>[government and public administration, politic...</td>\n",
       "      <td>Published8:19 AM EDT, Wed July 28, 2021</td>\n",
       "      <td>— on the day a house select committee held its...</td>\n",
       "      <td>[day, house, select, committee, held, first, p...</td>\n",
       "    </tr>\n",
       "    <tr>\n",
       "      <th>2</th>\n",
       "      <td>https://www.cnn.com/2022/12/21/politics/house-...</td>\n",
       "      <td>First transcripts from Jan. 6 committee reveal...</td>\n",
       "      <td>CNN</td>\n",
       "      <td>The House select committee investigating the J...</td>\n",
       "      <td>[2020 presidential election, ali alexander, br...</td>\n",
       "      <td>7:30 AM EST, Thu December 22, 2022</td>\n",
       "      <td>se select committee investigating the january ...</td>\n",
       "      <td>[se, select, committee, investigating, january...</td>\n",
       "    </tr>\n",
       "  </tbody>\n",
       "</table>\n",
       "</div>"
      ],
      "text/plain": [
       "                                                 url  \\\n",
       "0  https://www.cnn.com/2022/02/09/politics/mitch-...   \n",
       "1  https://www.cnn.com/2021/07/28/politics/republ...   \n",
       "2  https://www.cnn.com/2022/12/21/politics/house-...   \n",
       "\n",
       "                                               title source  \\\n",
       "0  McConnell squares off with conservatives for d...    CNN   \n",
       "1  Republicans’ Jan. 6 counterprogramming filled ...    CNN   \n",
       "2  First transcripts from Jan. 6 committee reveal...    CNN   \n",
       "\n",
       "                                         description  \\\n",
       "0  Senate GOP Leader Mitch McConnell made clear t...   \n",
       "1  On the day a House select committee held its f...   \n",
       "2  The House select committee investigating the J...   \n",
       "\n",
       "                                            keywords  \\\n",
       "0  [civil disobedience, conservatism, continents ...   \n",
       "1  [government and public administration, politic...   \n",
       "2  [2020 presidential election, ali alexander, br...   \n",
       "\n",
       "                                      date  \\\n",
       "0        5:52 PM EST, Wed February 9, 2022   \n",
       "1  Published8:19 AM EDT, Wed July 28, 2021   \n",
       "2       7:30 AM EST, Thu December 22, 2022   \n",
       "\n",
       "                                                text  \\\n",
       "0  gop leader mitch mcconnell made clear this wee...   \n",
       "1  — on the day a house select committee held its...   \n",
       "2  se select committee investigating the january ...   \n",
       "\n",
       "                                          clean_text  \n",
       "0  [gop, leader, mitch, mcconnell, made, clear, w...  \n",
       "1  [day, house, select, committee, held, first, p...  \n",
       "2  [se, select, committee, investigating, january...  "
      ]
     },
     "execution_count": 36,
     "metadata": {},
     "output_type": "execute_result"
    }
   ],
   "source": [
    "# Transform text into tokens\n",
    "df['clean_text'] = df.text.apply(lambda x: word_tokenize(x))\n",
    "\n",
    "# Remove stop words and all punctuation\n",
    "df['clean_text'] = df['clean_text'].apply(lambda x: [word for word in x if word not in stop_words and word.isalpha()])\n",
    "\n",
    "df.head()"
   ]
  },
  {
   "cell_type": "code",
   "execution_count": 44,
   "metadata": {},
   "outputs": [
    {
     "name": "stdout",
     "output_type": "stream",
     "text": [
      "<FreqDist with 428 samples and 701 outcomes>\n"
     ]
    },
    {
     "data": {
      "text/plain": [
       "[('mcconnell', 20),\n",
       " ('said', 16),\n",
       " ('republican', 14),\n",
       " ('gop', 11),\n",
       " ('january', 11),\n",
       " ('insurrection', 9),\n",
       " ('republicans', 9),\n",
       " ('trump', 9),\n",
       " ('leader', 8),\n",
       " ('attack', 8),\n",
       " ('violent', 7),\n",
       " ('party', 7),\n",
       " ('house', 6),\n",
       " ('texas', 6),\n",
       " ('wednesday', 6),\n",
       " ('committee', 6),\n",
       " ('capitol', 5),\n",
       " ('former', 4),\n",
       " ('president', 4),\n",
       " ('even', 4)]"
      ]
     },
     "execution_count": 44,
     "metadata": {},
     "output_type": "execute_result"
    }
   ],
   "source": [
    "# Look at 20 most frequently occuring words\n",
    "from nltk import FreqDist\n",
    "frequency_distribution = FreqDist(df.clean_text[0])\n",
    "print(frequency_distribution)\n",
    "\n",
    "frequency_distribution.most_common(20)\n",
    "\n",
    "# frequency_distribution.plot(20)"
   ]
  },
  {
   "cell_type": "code",
   "execution_count": 46,
   "metadata": {},
   "outputs": [
    {
     "name": "stdout",
     "output_type": "stream",
     "text": [
      "gop leader; select committee; former president; freedom caucus; events\n",
      "january; texas republican; election results; liz cheney; told cnn; yet\n",
      "another; even though; president donald; mitch mcconnell; donald trump;\n",
      "investigate january; january violent; wednesday asked; said wednesday;\n",
      "capitol attack; violent insurrection\n"
     ]
    }
   ],
   "source": [
    "# What words most frequently occur together?\n",
    "nltk.Text(df.clean_text[0]).collocations()"
   ]
  },
  {
   "cell_type": "code",
   "execution_count": null,
   "metadata": {},
   "outputs": [],
   "source": [
    "# TO DO\n",
    "# Combine words into one corpus for each source\n",
    "# Are dataframes the best way of dealing with this data? Will that use too much space?"
   ]
  }
 ],
 "metadata": {
  "kernelspec": {
   "display_name": "Python 3",
   "language": "python",
   "name": "python3"
  },
  "language_info": {
   "codemirror_mode": {
    "name": "ipython",
    "version": 3
   },
   "file_extension": ".py",
   "mimetype": "text/x-python",
   "name": "python",
   "nbconvert_exporter": "python",
   "pygments_lexer": "ipython3",
   "version": "3.8.10"
  },
  "orig_nbformat": 4,
  "vscode": {
   "interpreter": {
    "hash": "31f2aee4e71d21fbe5cf8b01ff0e069b9275f58929596ceb00d14d90e3e16cd6"
   }
  }
 },
 "nbformat": 4,
 "nbformat_minor": 2
}
